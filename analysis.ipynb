{
 "cells": [
  {
   "cell_type": "code",
   "execution_count": 4,
   "metadata": {},
   "outputs": [],
   "source": [
    "import time\n",
    "import random\n",
    "import matplotlib.pyplot as plt\n",
    "\n",
    "# Import your functions here\n",
    "from dynamic_program import min_edit_distance_dp\n",
    "from recursive import med_recursive\n",
    "from dynamic_program_memo import min_edit_distance_memo\n",
    "from divide_n_conquer import min_edit_distance_dnc\n",
    "\n",
    "def generate_random_dna(length):\n",
    "    return ''.join(random.choice('ACGT') for _ in range(length))\n",
    "\n",
    "lengths = [5, 10, 50, 100,500]\n",
    "functions = [min_edit_distance_dp, med_recursive, min_edit_distance_memo, min_edit_distance_dnc]\n",
    "labels = ['DP', 'Recursive', 'Memoization', 'Divide and Conquer']\n",
    "\n",
    "for function, label in zip(functions, labels):\n",
    "    times = []\n",
    "    for length in lengths:\n",
    "        dna1 = generate_random_dna(length)\n",
    "        dna2 = generate_random_dna(length)\n",
    "\n",
    "        start_time = time.time()\n",
    "        function(dna1, dna2)\n",
    "        end_time = time.time()\n",
    "\n",
    "        elapsed_time = end_time - start_time\n",
    "        times.append(elapsed_time)\n",
    "\n",
    "    plt.plot(lengths, times, label=label)\n",
    "\n",
    "plt.xlabel('DNA sequence length')\n",
    "plt.ylabel('Execution time (seconds)')\n",
    "plt.title('Scalability analysis')\n",
    "plt.legend()\n",
    "plt.show()"
   ]
  },
  {
   "cell_type": "code",
   "execution_count": null,
   "metadata": {},
   "outputs": [],
   "source": [
    "%pip install matplotlib"
   ]
  }
 ],
 "metadata": {
  "kernelspec": {
   "display_name": "Python 3",
   "language": "python",
   "name": "python3"
  },
  "language_info": {
   "codemirror_mode": {
    "name": "ipython",
    "version": 3
   },
   "file_extension": ".py",
   "mimetype": "text/x-python",
   "name": "python",
   "nbconvert_exporter": "python",
   "pygments_lexer": "ipython3",
   "version": "3.11.5"
  }
 },
 "nbformat": 4,
 "nbformat_minor": 2
}
